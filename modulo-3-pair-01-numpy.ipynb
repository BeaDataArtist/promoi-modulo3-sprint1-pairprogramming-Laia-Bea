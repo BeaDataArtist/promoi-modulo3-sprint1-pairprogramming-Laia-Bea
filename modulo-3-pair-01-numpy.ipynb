{
 "cells": [
  {
   "cell_type": "code",
   "execution_count": 1,
   "metadata": {},
   "outputs": [],
   "source": [
    "import numpy as np"
   ]
  },
  {
   "cell_type": "markdown",
   "metadata": {},
   "source": [
    "# Pair Numpy\n",
    "\n",
    "## Creación y Indexación:\n",
    "\n",
    "1. Crea un array 1D con 50 valores aleatorio del 10 al 99. Accede a los elementos en las posiciones múltiplos de 5."
   ]
  },
  {
   "cell_type": "code",
   "execution_count": 7,
   "metadata": {},
   "outputs": [
    {
     "name": "stdout",
     "output_type": "stream",
     "text": [
      "[23 97 10 69 17 86 30 45 59 73 39 17 25 24 50 61 80 79 64 88 40 31 76 28\n",
      " 79 93 48 71 95 74 56 79 93 64 36 76 40 62 80 95 33 64 89 31 15 78 74 87\n",
      " 74 40]\n",
      "[23 86 39 61 40 93 56 76 33 78]\n"
     ]
    }
   ],
   "source": [
    "array_aleatoria = np.random.randint(10, 100, 50)\n",
    "\n",
    "array_accede = array_aleatoria[::5]\n",
    "\n",
    "print(array_aleatoria)\n",
    "print(array_accede)"
   ]
  },
  {
   "cell_type": "markdown",
   "metadata": {},
   "source": [
    "2. Crea un array 1D con 30 valores del 1 al 20 (ambos incluidos). Utiliza indexación para obtener los elementos en las posiciones impares."
   ]
  },
  {
   "cell_type": "code",
   "execution_count": 17,
   "metadata": {},
   "outputs": [
    {
     "name": "stdout",
     "output_type": "stream",
     "text": [
      "[ 1  2  3  4  5  6  7  8  9 10 11 12 13 14 15 16 17 18 19 20]\n",
      "[ 1  3  5  7  9 11 13 15 17 19]\n"
     ]
    }
   ],
   "source": [
    "lista_1d = [1, 2, 3, 4, 5, 6, 7, 8, 9, 10, 11, 12, 13, 14, 15, 16, 17, 18, 19, 20]\n",
    "\n",
    "array_1d = np.array(lista_1d)\n",
    "\n",
    "print(array_1d)\n",
    "print(array_1d[::2])"
   ]
  },
  {
   "cell_type": "markdown",
   "metadata": {},
   "source": [
    "3. Crea un array 2D de forma (4, 6) con números aleatorios decimales (no deben estar comprendidos solo entre 0 y 1). Accede a la última fila de la matriz. Los decimales deben estar redondeados a 2 decimales."
   ]
  },
  {
   "cell_type": "code",
   "execution_count": 25,
   "metadata": {},
   "outputs": [
    {
     "data": {
      "text/plain": [
       "array([[83.86714649, 45.12406892, 92.27202119, 43.31758867, 42.47903659,\n",
       "         8.34920998],\n",
       "       [58.37896809, 17.01657739, 68.63591788, 73.71376937, 97.12641504,\n",
       "         7.43835624],\n",
       "       [34.60351758,  4.64584373, 15.63003857,  7.72663834, 37.59010664,\n",
       "        21.33754473],\n",
       "       [94.12099659,  7.8488697 , 79.94818845, 60.57000072, 57.30602499,\n",
       "        81.73107763]])"
      ]
     },
     "execution_count": 25,
     "metadata": {},
     "output_type": "execute_result"
    }
   ],
   "source": [
    "array_2d = np.random.uniform(2,100,(4, 6)) # lo hemos buscado  (podemos hacer operaciones sobre rand y sample)\n",
    "\n",
    "array_2d"
   ]
  },
  {
   "cell_type": "markdown",
   "metadata": {},
   "source": [
    "4. **BONUS:** Crea un array 3D de forma (2, 3, 5) y 30 elementos con números enteros entre 0 y 100 (ambos incluidos). Reemplaza los elementos en posiciones múltiplos de 3 por 0."
   ]
  },
  {
   "cell_type": "code",
   "execution_count": null,
   "metadata": {},
   "outputs": [],
   "source": []
  },
  {
   "cell_type": "markdown",
   "metadata": {},
   "source": [
    "## Reshape y Transpose:\n",
    "\n",
    "### Ejercicios con reshape:\n",
    "\n",
    "1. Crea un array 3D de forma (2, 3, 4) con valores aleatorios entre 1 y 100 (ambos inclusive). Utiliza reshape para convertirlo en un array 2D. Deberás pensar en la forma que es correcta para hacer este cambio."
   ]
  },
  {
   "cell_type": "code",
   "execution_count": null,
   "metadata": {},
   "outputs": [],
   "source": []
  },
  {
   "cell_type": "markdown",
   "metadata": {},
   "source": [
    "2. Crea un array 3D de forma (3, 4, 5) con valores enteros del 1 al 61 (sin incluir). Utiliza reshape para convertirlo en un array 2D."
   ]
  },
  {
   "cell_type": "code",
   "execution_count": null,
   "metadata": {},
   "outputs": [],
   "source": []
  },
  {
   "cell_type": "markdown",
   "metadata": {},
   "source": [
    "### Ejercicios con transpose:\n",
    "\n",
    "3. Utiliza el array 3D del ejercicio 2 de reshape. Utiliza transpose para permutar los ejes y obtener un nuevo array con forma (5, 4, 3)."
   ]
  },
  {
   "cell_type": "code",
   "execution_count": null,
   "metadata": {},
   "outputs": [],
   "source": []
  },
  {
   "cell_type": "markdown",
   "metadata": {},
   "source": [
    "\n",
    "4. Utiliza el array 3D del ejercicio 2 de reshape. Utiliza transpose para cambiar el orden de los ejes y obtener un nuevo array con forma (3, 5, 4)."
   ]
  },
  {
   "cell_type": "code",
   "execution_count": null,
   "metadata": {},
   "outputs": [],
   "source": []
  },
  {
   "cell_type": "markdown",
   "metadata": {},
   "source": [
    "### Preguntas teóricas:\n",
    "\n",
    "5. ¿Qué diferencia existe entre el reshape y el transpose?\n",
    "\n",
    "6. ¿Y entre el transpose y el swapaxes?"
   ]
  },
  {
   "cell_type": "markdown",
   "metadata": {},
   "source": [
    "## Funciones Aritméticas y Estadísticas:\n",
    "\n",
    "1. Crea un array de tres 3D con elementos entre el 0 y 1 de forma (2, 3, 5) cuyos valores solo tengan 1 decimal."
   ]
  },
  {
   "cell_type": "code",
   "execution_count": null,
   "metadata": {},
   "outputs": [],
   "source": []
  },
  {
   "cell_type": "markdown",
   "metadata": {},
   "source": [
    "\n",
    "2. Crea un array vacío con la misma forma y dimensiones que el array creado anteriormente. Vamos a reemplazar los valores de la matriz vacía que nos acabamos de crear pero basándonos en los valores del primer array bajo las siguientes condiciones:\n",
    "\n",
    "- Si el valor del array es igual que la media, se reemplaza por \"A\".\n",
    "\n",
    "- Si el valor del array es mayor que la media, se reemplaza por \"B\".\n",
    "\n",
    "- Si el valor del array es menor que la media, se reemplaza por \"C\".\n",
    "\n",
    "- Si el valor es igual que el máximo, se reemplaza por \"D\".\n",
    "\n",
    "- Si el valor es igual que el mínimo, se reemplaza por \"E\"."
   ]
  },
  {
   "cell_type": "code",
   "execution_count": null,
   "metadata": {},
   "outputs": [],
   "source": []
  }
 ],
 "metadata": {
  "kernelspec": {
   "display_name": "base",
   "language": "python",
   "name": "python3"
  },
  "language_info": {
   "codemirror_mode": {
    "name": "ipython",
    "version": 3
   },
   "file_extension": ".py",
   "mimetype": "text/x-python",
   "name": "python",
   "nbconvert_exporter": "python",
   "pygments_lexer": "ipython3",
   "version": "3.11.7"
  }
 },
 "nbformat": 4,
 "nbformat_minor": 2
}
