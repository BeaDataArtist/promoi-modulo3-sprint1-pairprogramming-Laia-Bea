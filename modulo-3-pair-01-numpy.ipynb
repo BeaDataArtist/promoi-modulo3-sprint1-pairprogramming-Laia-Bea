{
 "cells": [
  {
   "cell_type": "code",
   "execution_count": 2,
   "metadata": {},
   "outputs": [],
   "source": [
    "import numpy as np"
   ]
  },
  {
   "cell_type": "markdown",
   "metadata": {},
   "source": [
    "# Pair Numpy\n",
    "\n",
    "## Creación y Indexación:\n",
    "\n",
    "1. Crea un array 1D con 50 valores aleatorio del 10 al 99. Accede a los elementos en las posiciones múltiplos de 5."
   ]
  },
  {
   "cell_type": "code",
   "execution_count": 3,
   "metadata": {},
   "outputs": [
    {
     "name": "stdout",
     "output_type": "stream",
     "text": [
      "[91 12 99 57 29 78 68 49 61 16 58 22 56 25 64 35 15 37 95 74 21 27 72 30\n",
      " 27 34 29 44 59 52 24 36 44 75 64 81 87 94 17 39 36 53 32 84 51 36 53 12\n",
      " 67 87]\n",
      "[91 78 58 35 21 34 24 81 36 36]\n"
     ]
    }
   ],
   "source": [
    "array_aleatoria = np.random.randint(10, 100, 50)\n",
    "\n",
    "array_accede = array_aleatoria[::5]\n",
    "\n",
    "print(array_aleatoria)\n",
    "print(array_accede)"
   ]
  },
  {
   "cell_type": "markdown",
   "metadata": {},
   "source": [
    "2. Crea un array 1D con 30 valores del 1 al 20 (ambos incluidos). Utiliza indexación para obtener los elementos en las posiciones impares."
   ]
  },
  {
   "cell_type": "code",
   "execution_count": 4,
   "metadata": {},
   "outputs": [
    {
     "name": "stdout",
     "output_type": "stream",
     "text": [
      "[ 1  2  3  4  5  6  7  8  9 10 11 12 13 14 15 16 17 18 19 20]\n",
      "[ 1  3  5  7  9 11 13 15 17 19]\n"
     ]
    }
   ],
   "source": [
    "lista_1d = [1, 2, 3, 4, 5, 6, 7, 8, 9, 10, 11, 12, 13, 14, 15, 16, 17, 18, 19, 20]\n",
    "\n",
    "array_1d = np.array(lista_1d)\n",
    "\n",
    "print(array_1d)\n",
    "print(array_1d[::2])"
   ]
  },
  {
   "cell_type": "markdown",
   "metadata": {},
   "source": [
    "3. Crea un array 2D de forma (4, 6) con números aleatorios decimales (no deben estar comprendidos solo entre 0 y 1). Accede a la última fila de la matriz. Los decimales deben estar redondeados a 2 decimales."
   ]
  },
  {
   "cell_type": "code",
   "execution_count": 5,
   "metadata": {},
   "outputs": [
    {
     "name": "stdout",
     "output_type": "stream",
     "text": [
      "[[10.5  10.12 10.52 10.92 10.95 10.81]\n",
      " [10.83 10.51 10.49 10.04 10.49 10.64]\n",
      " [10.76 10.73 10.02 10.98 10.67 10.73]\n",
      " [10.54 10.83 10.85 10.27 10.37 10.16]]\n",
      "\n",
      " -*-*-*-*-*-*-*-*-*-*-*-*-*-*-*-*-*-*-*-*-*-*-*-*-*-*-*-\n",
      " \n",
      "La última fila es: [10.54 10.83 10.85 10.27 10.37 10.16]\n"
     ]
    }
   ],
   "source": [
    "array_2d = np.random.rand(4, 6) + 10 # Al sumarle un numero mayor de 1 ya se cumple la condición asegurandonos que no estén los decimales comprendidos entre 0 y 1\n",
    "array_2d = np.round(array_2d, 2)\n",
    "ultima_fila = array_2d[-1, :]\n",
    "print(array_2d)\n",
    "print(\"\\n -*-*-*-*-*-*-*-*-*-*-*-*-*-*-*-*-*-*-*-*-*-*-*-*-*-*-*-\\n \")\n",
    "print(f\"La última fila es: {ultima_fila}\")"
   ]
  },
  {
   "cell_type": "markdown",
   "metadata": {},
   "source": [
    "4. **BONUS:** Crea un array 3D de forma (2, 3, 5) y 30 elementos con números enteros entre 0 y 100 (ambos incluidos). Reemplaza los elementos en posiciones múltiplos de 3 por 0."
   ]
  },
  {
   "cell_type": "code",
   "execution_count": 6,
   "metadata": {},
   "outputs": [
    {
     "name": "stdout",
     "output_type": "stream",
     "text": [
      "[[[ 12  64  93  73  60]\n",
      "  [ 59  26  25  45  23]\n",
      "  [ 78  31  48  93  78]]\n",
      "\n",
      " [[ 72  28  92 100  15]\n",
      "  [ 61  22  52  82  93]\n",
      "  [ 20  84  25   3  58]]]\n",
      "-----------------------\n",
      "Array con elementos reemplazados: [[[  0  64   0  73   0]\n",
      "  [ 59  26  25   0  23]\n",
      "  [  0  31   0   0   0]]\n",
      "\n",
      " [[  0  28  92 100   0]\n",
      "  [ 61  22  52  82   0]\n",
      "  [ 20   0  25   0  58]]]\n"
     ]
    }
   ],
   "source": [
    "array_3d = np.random.randint(0, 101, (2, 3, 5))\n",
    "print(array_3d)\n",
    "print(\"-----------------------\")\n",
    "array_3d[array_3d % 3 == 0] = 0  # Si el resto de la división es 0, es múltiple de tres, por lo tanto se evalúa como True y es reemplazado. \n",
    "print(f\"Array con elementos reemplazados: {array_3d}\")"
   ]
  },
  {
   "cell_type": "markdown",
   "metadata": {},
   "source": [
    "## Reshape y Transpose:\n",
    "\n",
    "### Ejercicios con reshape:\n",
    "\n",
    "1. Crea un array 3D de forma (2, 3, 4) con valores aleatorios entre 1 y 100 (ambos inclusive). Utiliza reshape para convertirlo en un array 2D. Deberás pensar en la forma que es correcta para hacer este cambio."
   ]
  },
  {
   "cell_type": "code",
   "execution_count": 7,
   "metadata": {},
   "outputs": [
    {
     "name": "stdout",
     "output_type": "stream",
     "text": [
      "[[[38 50  9 13]\n",
      "  [36  3 46 11]\n",
      "  [12 11 83  7]]\n",
      "\n",
      " [[ 9 47  6 48]\n",
      "  [66 97 43 17]\n",
      "  [95 25 45 69]]]\n",
      "[[38 50  9 13]\n",
      " [36  3 46 11]\n",
      " [12 11 83  7]\n",
      " [ 9 47  6 48]\n",
      " [66 97 43 17]\n",
      " [95 25 45 69]]\n"
     ]
    }
   ],
   "source": [
    "array_2x3x4 = np.random.randint(1, 101, (2, 3, 4))\n",
    "print(array_2x3x4)\n",
    "array2x3x4_2d = array_2x3x4.reshape(6, 4) # Para que funcionara el reshape y que contuviera todos los numeros, le he indicado que me de 6 filas que es la suma de las 3 del array 3d.\n",
    "print(array2x3x4_2d)"
   ]
  },
  {
   "cell_type": "markdown",
   "metadata": {},
   "source": [
    "2. Crea un array 3D de forma (3, 4, 5) con valores enteros del 1 al 61 (sin incluir). Utiliza reshape para convertirlo en un array 2D."
   ]
  },
  {
   "cell_type": "code",
   "execution_count": 8,
   "metadata": {},
   "outputs": [
    {
     "name": "stdout",
     "output_type": "stream",
     "text": [
      "[[[ 1  2  3  4  5]\n",
      "  [ 6  7  8  9 10]\n",
      "  [11 12 13 14 15]\n",
      "  [16 17 18 19 20]]\n",
      "\n",
      " [[21 22 23 24 25]\n",
      "  [26 27 28 29 30]\n",
      "  [31 32 33 34 35]\n",
      "  [36 37 38 39 40]]\n",
      "\n",
      " [[41 42 43 44 45]\n",
      "  [46 47 48 49 50]\n",
      "  [51 52 53 54 55]\n",
      "  [56 57 58 59 60]]]\n",
      "----------------------\n",
      "[[ 1  2  3  4  5]\n",
      " [ 6  7  8  9 10]\n",
      " [11 12 13 14 15]\n",
      " [16 17 18 19 20]\n",
      " [21 22 23 24 25]\n",
      " [26 27 28 29 30]\n",
      " [31 32 33 34 35]\n",
      " [36 37 38 39 40]\n",
      " [41 42 43 44 45]\n",
      " [46 47 48 49 50]\n",
      " [51 52 53 54 55]\n",
      " [56 57 58 59 60]]\n"
     ]
    }
   ],
   "source": [
    "array_3d = np.arange(1, 61).reshape((3, 4, 5))\n",
    "print(array_3d)\n",
    "print(\"----------------------\")\n",
    "\n",
    "array_2d = array_3d.reshape((3*4, 5))\n",
    "print(array_2d)"
   ]
  },
  {
   "cell_type": "markdown",
   "metadata": {},
   "source": [
    "### Ejercicios con transpose:\n",
    "\n",
    "3. Utiliza el array 3D del ejercicio 2 de reshape. Utiliza transpose para permutar los ejes y obtener un nuevo array con forma (5, 4, 3)."
   ]
  },
  {
   "cell_type": "code",
   "execution_count": 9,
   "metadata": {},
   "outputs": [
    {
     "name": "stdout",
     "output_type": "stream",
     "text": [
      "[[[ 1 21 41]\n",
      "  [ 6 26 46]\n",
      "  [11 31 51]\n",
      "  [16 36 56]]\n",
      "\n",
      " [[ 2 22 42]\n",
      "  [ 7 27 47]\n",
      "  [12 32 52]\n",
      "  [17 37 57]]\n",
      "\n",
      " [[ 3 23 43]\n",
      "  [ 8 28 48]\n",
      "  [13 33 53]\n",
      "  [18 38 58]]\n",
      "\n",
      " [[ 4 24 44]\n",
      "  [ 9 29 49]\n",
      "  [14 34 54]\n",
      "  [19 39 59]]\n",
      "\n",
      " [[ 5 25 45]\n",
      "  [10 30 50]\n",
      "  [15 35 55]\n",
      "  [20 40 60]]]\n"
     ]
    }
   ],
   "source": [
    "permutada = array_3d.transpose(2, 1, 0)\n",
    "print(permutada)"
   ]
  },
  {
   "cell_type": "markdown",
   "metadata": {},
   "source": [
    "\n",
    "4. Utiliza el array 3D del ejercicio 2 de reshape. Utiliza transpose para cambiar el orden de los ejes y obtener un nuevo array con forma (3, 5, 4)."
   ]
  },
  {
   "cell_type": "code",
   "execution_count": 10,
   "metadata": {},
   "outputs": [
    {
     "name": "stdout",
     "output_type": "stream",
     "text": [
      "[[[ 1  2  3  4  5]\n",
      "  [ 6  7  8  9 10]\n",
      "  [11 12 13 14 15]\n",
      "  [16 17 18 19 20]]\n",
      "\n",
      " [[21 22 23 24 25]\n",
      "  [26 27 28 29 30]\n",
      "  [31 32 33 34 35]\n",
      "  [36 37 38 39 40]]\n",
      "\n",
      " [[41 42 43 44 45]\n",
      "  [46 47 48 49 50]\n",
      "  [51 52 53 54 55]\n",
      "  [56 57 58 59 60]]]\n",
      "--------------------\n",
      "[[[ 1  6 11 16]\n",
      "  [ 2  7 12 17]\n",
      "  [ 3  8 13 18]\n",
      "  [ 4  9 14 19]\n",
      "  [ 5 10 15 20]]\n",
      "\n",
      " [[21 26 31 36]\n",
      "  [22 27 32 37]\n",
      "  [23 28 33 38]\n",
      "  [24 29 34 39]\n",
      "  [25 30 35 40]]\n",
      "\n",
      " [[41 46 51 56]\n",
      "  [42 47 52 57]\n",
      "  [43 48 53 58]\n",
      "  [44 49 54 59]\n",
      "  [45 50 55 60]]]\n"
     ]
    }
   ],
   "source": [
    "array_3d = np.arange(1, 61).reshape((3, 4, 5))\n",
    "print(array_3d)\n",
    "print(\"--------------------\")\n",
    "array_transposed = array_3d.transpose((0, 2, 1))\n",
    "print(array_transposed)"
   ]
  },
  {
   "cell_type": "markdown",
   "metadata": {},
   "source": [
    "### Preguntas teóricas:\n",
    "\n",
    "5. ¿Qué diferencia existe entre el reshape y el transpose?\n",
    "El RESHAPE cambia la forma del array sin modificar sus datos y el TRANSPOSE cambia el orden de los ejes del array\n",
    "\n",
    "6. ¿Y entre el transpose y el swapaxes?\n",
    "\n",
    "El método TRANSPOSE permite reorganizar todos los ejes según un nuevo orden especificado, mientras que SWAPAXES solo intercambia 2 ejes concretos."
   ]
  },
  {
   "cell_type": "markdown",
   "metadata": {},
   "source": [
    "## Funciones Aritméticas y Estadísticas:\n",
    "\n",
    "1. Crea un array de 3D con elementos entre el 0 y 1 de forma (2, 3, 5) cuyos valores solo tengan 1 decimal."
   ]
  },
  {
   "cell_type": "code",
   "execution_count": 11,
   "metadata": {},
   "outputs": [
    {
     "name": "stdout",
     "output_type": "stream",
     "text": [
      "[[[0.4 0.9 0.7 0.7 0.6]\n",
      "  [0.2 0.5 0.9 0.2 0.8]\n",
      "  [0.8 0.5 0.2 0.2 0.9]]\n",
      "\n",
      " [[0.2 0.4 0.5 0.4 1. ]\n",
      "  [0.9 0.9 0.9 0.8 0.7]\n",
      "  [0.5 0.2 0.9 0.3 0.8]]]\n"
     ]
    }
   ],
   "source": [
    "d3 = np.random.rand(2, 3, 5)\n",
    "d3_redondeado = np.round(d3, 1)\n",
    "print(d3_redondeado)"
   ]
  },
  {
   "cell_type": "markdown",
   "metadata": {},
   "source": [
    "\n",
    "2. Crea un array vacío con la misma forma y dimensiones que el array creado anteriormente. Vamos a reemplazar los valores de la matriz vacía que nos acabamos de crear pero basándonos en los valores del primer array bajo las siguientes condiciones:\n",
    "\n",
    "- Si el valor del array es igual que la media, se reemplaza por \"A\".\n",
    "\n",
    "- Si el valor del array es mayor que la media, se reemplaza por \"B\".\n",
    "\n",
    "- Si el valor del array es menor que la media, se reemplaza por \"C\".\n",
    "\n",
    "- Si el valor es igual que el máximo, se reemplaza por \"D\".\n",
    "\n",
    "- Si el valor es igual que el mínimo, se reemplaza por \"E\"."
   ]
  },
  {
   "cell_type": "code",
   "execution_count": 28,
   "metadata": {},
   "outputs": [
    {
     "name": "stdout",
     "output_type": "stream",
     "text": [
      "0.5966666666666666\n",
      "1.0\n",
      "0.2\n",
      "-------------------\n",
      "[[['' '' '' '' '']\n",
      "  ['' '' '' '' '']\n",
      "  ['' '' '' '' '']]\n",
      "\n",
      " [['' '' '' '' '']\n",
      "  ['' '' '' '' '']\n",
      "  ['' '' '' '' '']]]\n",
      "El array transformado:\n",
      " [[['C' 'B' 'B' 'B' 'B']\n",
      "  ['E' 'C' 'B' 'E' 'B']\n",
      "  ['B' 'C' 'E' 'E' 'B']]\n",
      "\n",
      " [['E' 'C' 'C' 'C' 'D']\n",
      "  ['B' 'B' 'B' 'B' 'B']\n",
      "  ['C' 'E' 'B' 'C' 'B']]]\n"
     ]
    }
   ],
   "source": [
    "\n",
    "media = np.mean(d3_redondeado)\n",
    "maximo = np.max(d3_redondeado)\n",
    "minimo = np.min(d3_redondeado)\n",
    "\n",
    "print(media)\n",
    "print(maximo)\n",
    "print(minimo)\n",
    "\n",
    "print(\"-------------------\")\n",
    "\n",
    "array_vacio = np.empty(d3_redondeado.shape, dtype=str)\n",
    "print(array_vacio)\n",
    "\n",
    "\n",
    "for i in range(d3_redondeado.shape[0]):\n",
    "    for j in range(d3_redondeado.shape[1]):\n",
    "        for k in range(d3_redondeado.shape[2]):\n",
    "            valor = d3_redondeado[i, j, k]\n",
    "            if valor == media:\n",
    "                array_vacio[i, j, k] = 'A'\n",
    "            elif valor == maximo:\n",
    "                array_vacio[i, j, k] = 'D'\n",
    "            elif valor == minimo:\n",
    "                array_vacio[i, j, k] = 'E'\n",
    "            elif valor > media:\n",
    "                array_vacio[i, j, k] = 'B'\n",
    "            else:\n",
    "                array_vacio[i, j, k] = 'C'\n",
    "\n",
    "print (f\"El array transformado:\\n {array_vacio}\")\n"
   ]
  }
 ],
 "metadata": {
  "kernelspec": {
   "display_name": "base",
   "language": "python",
   "name": "python3"
  },
  "language_info": {
   "codemirror_mode": {
    "name": "ipython",
    "version": 3
   },
   "file_extension": ".py",
   "mimetype": "text/x-python",
   "name": "python",
   "nbconvert_exporter": "python",
   "pygments_lexer": "ipython3",
   "version": "3.9.6"
  }
 },
 "nbformat": 4,
 "nbformat_minor": 2
}
