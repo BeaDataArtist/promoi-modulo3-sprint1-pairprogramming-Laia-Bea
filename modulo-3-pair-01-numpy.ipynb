{
 "cells": [
  {
   "cell_type": "code",
   "execution_count": 1,
   "metadata": {},
   "outputs": [],
   "source": [
    "import numpy as np"
   ]
  },
  {
   "cell_type": "markdown",
   "metadata": {},
   "source": [
    "# Pair Numpy\n",
    "\n",
    "## Creación y Indexación:\n",
    "\n",
    "1. Crea un array 1D con 50 valores aleatorio del 10 al 99. Accede a los elementos en las posiciones múltiplos de 5."
   ]
  },
  {
   "cell_type": "code",
   "execution_count": 2,
   "metadata": {},
   "outputs": [
    {
     "name": "stdout",
     "output_type": "stream",
     "text": [
      "[72 84 86 59 63 93 46 68 52 82 39 17 57 38 43 58 50 55 76 46 68 35 72 27\n",
      " 75 47 70 96 90 91 64 40 32 55 77 97 48 43 56 69 12 67 73 30 40 56 45 92\n",
      " 70 41]\n",
      "[72 93 39 58 68 47 64 97 12 56]\n"
     ]
    }
   ],
   "source": [
    "array_aleatoria = np.random.randint(10, 100, 50)\n",
    "\n",
    "array_accede = array_aleatoria[::5]\n",
    "\n",
    "print(array_aleatoria)\n",
    "print(array_accede)"
   ]
  },
  {
   "cell_type": "markdown",
   "metadata": {},
   "source": [
    "2. Crea un array 1D con 30 valores del 1 al 20 (ambos incluidos). Utiliza indexación para obtener los elementos en las posiciones impares."
   ]
  },
  {
   "cell_type": "code",
   "execution_count": 3,
   "metadata": {},
   "outputs": [
    {
     "name": "stdout",
     "output_type": "stream",
     "text": [
      "[ 1  2  3  4  5  6  7  8  9 10 11 12 13 14 15 16 17 18 19 20]\n",
      "[ 1  3  5  7  9 11 13 15 17 19]\n"
     ]
    }
   ],
   "source": [
    "lista_1d = [1, 2, 3, 4, 5, 6, 7, 8, 9, 10, 11, 12, 13, 14, 15, 16, 17, 18, 19, 20]\n",
    "\n",
    "array_1d = np.array(lista_1d)\n",
    "\n",
    "print(array_1d)\n",
    "print(array_1d[::2])"
   ]
  },
  {
   "cell_type": "markdown",
   "metadata": {},
   "source": [
    "3. Crea un array 2D de forma (4, 6) con números aleatorios decimales (no deben estar comprendidos solo entre 0 y 1). Accede a la última fila de la matriz. Los decimales deben estar redondeados a 2 decimales."
   ]
  },
  {
   "cell_type": "code",
   "execution_count": 4,
   "metadata": {},
   "outputs": [
    {
     "name": "stdout",
     "output_type": "stream",
     "text": [
      "[[10.76 10.63 10.46 10.63 10.21 10.35]\n",
      " [10.33 10.75 10.19 10.88 10.98 10.21]\n",
      " [10.04 10.85 10.06 10.6  11.   10.91]\n",
      " [10.53 10.03 10.27 10.32 10.8  10.08]]\n",
      "\n",
      " -*-*-*-*-*-*-*-*-*-*-*-*-*-*-*-*-*-*-*-*-*-*-*-*-*-*-*-\n",
      " \n",
      "La última fila es: [10.53 10.03 10.27 10.32 10.8  10.08]\n"
     ]
    }
   ],
   "source": [
    "array_2d = np.random.rand(4, 6) + 10 # Al sumarle un numero mayor de 1 ya se cumple la condición asegurandonos que no estén los decimales comprendidos entre 0 y 1\n",
    "array_2d = np.round(array_2d, 2)\n",
    "ultima_fila = array_2d[-1, :]\n",
    "print(array_2d)\n",
    "print(\"\\n -*-*-*-*-*-*-*-*-*-*-*-*-*-*-*-*-*-*-*-*-*-*-*-*-*-*-*-\\n \")\n",
    "print(f\"La última fila es: {ultima_fila}\")"
   ]
  },
  {
   "cell_type": "markdown",
   "metadata": {},
   "source": [
    "4. **BONUS:** Crea un array 3D de forma (2, 3, 5) y 30 elementos con números enteros entre 0 y 100 (ambos incluidos). Reemplaza los elementos en posiciones múltiplos de 3 por 0."
   ]
  },
  {
   "cell_type": "code",
   "execution_count": 5,
   "metadata": {},
   "outputs": [
    {
     "name": "stdout",
     "output_type": "stream",
     "text": [
      "[[[77 75 28 81 95]\n",
      "  [52 47 72 63 32]\n",
      "  [21 87 64 84 31]]\n",
      "\n",
      " [[48 44 23 80 99]\n",
      "  [46 27 50 64 83]\n",
      "  [79 19 68 33  0]]]\n",
      "-----------------------\n",
      "Array con elementos reemplazados: [[[77  0 28  0 95]\n",
      "  [52 47  0  0 32]\n",
      "  [ 0  0 64  0 31]]\n",
      "\n",
      " [[ 0 44 23 80  0]\n",
      "  [46  0 50 64 83]\n",
      "  [79 19 68  0  0]]]\n"
     ]
    }
   ],
   "source": [
    "array_3d = np.random.randint(0, 101, (2, 3, 5))\n",
    "print(array_3d)\n",
    "print(\"-----------------------\")\n",
    "array_3d[array_3d % 3 == 0] = 0  # Si el resto de la división es 0, es múltiple de tres, por lo tanto se evalúa como True y es reemplazado. \n",
    "print(f\"Array con elementos reemplazados: {array_3d}\")"
   ]
  },
  {
   "cell_type": "markdown",
   "metadata": {},
   "source": [
    "## Reshape y Transpose:\n",
    "\n",
    "### Ejercicios con reshape:\n",
    "\n",
    "1. Crea un array 3D de forma (2, 3, 4) con valores aleatorios entre 1 y 100 (ambos inclusive). Utiliza reshape para convertirlo en un array 2D. Deberás pensar en la forma que es correcta para hacer este cambio."
   ]
  },
  {
   "cell_type": "code",
   "execution_count": 6,
   "metadata": {},
   "outputs": [
    {
     "name": "stdout",
     "output_type": "stream",
     "text": [
      "[[[15 81  5 17]\n",
      "  [ 3 75 79  2]\n",
      "  [11 14 56 90]]\n",
      "\n",
      " [[42 30 65 87]\n",
      "  [60 47 61  3]\n",
      "  [20 81 90 52]]]\n",
      "[[15 81  5 17]\n",
      " [ 3 75 79  2]\n",
      " [11 14 56 90]\n",
      " [42 30 65 87]\n",
      " [60 47 61  3]\n",
      " [20 81 90 52]]\n"
     ]
    }
   ],
   "source": [
    "array_2x3x4 = np.random.randint(1, 101, (2, 3, 4))\n",
    "print(array_2x3x4)\n",
    "array2x3x4_2d = array_2x3x4.reshape(6, 4) # Para que funcionara el reshape y que contuviera todos los numeros, le he indicado que me de 6 filas que es la suma de las 3 del array 3d.\n",
    "print(array2x3x4_2d)"
   ]
  },
  {
   "cell_type": "markdown",
   "metadata": {},
   "source": [
    "2. Crea un array 3D de forma (3, 4, 5) con valores enteros del 1 al 61 (sin incluir). Utiliza reshape para convertirlo en un array 2D."
   ]
  },
  {
   "cell_type": "code",
   "execution_count": 7,
   "metadata": {},
   "outputs": [
    {
     "name": "stdout",
     "output_type": "stream",
     "text": [
      "[[[ 1  2  3  4  5]\n",
      "  [ 6  7  8  9 10]\n",
      "  [11 12 13 14 15]\n",
      "  [16 17 18 19 20]]\n",
      "\n",
      " [[21 22 23 24 25]\n",
      "  [26 27 28 29 30]\n",
      "  [31 32 33 34 35]\n",
      "  [36 37 38 39 40]]\n",
      "\n",
      " [[41 42 43 44 45]\n",
      "  [46 47 48 49 50]\n",
      "  [51 52 53 54 55]\n",
      "  [56 57 58 59 60]]]\n",
      "----------------------\n",
      "[[ 1  2  3  4  5]\n",
      " [ 6  7  8  9 10]\n",
      " [11 12 13 14 15]\n",
      " [16 17 18 19 20]\n",
      " [21 22 23 24 25]\n",
      " [26 27 28 29 30]\n",
      " [31 32 33 34 35]\n",
      " [36 37 38 39 40]\n",
      " [41 42 43 44 45]\n",
      " [46 47 48 49 50]\n",
      " [51 52 53 54 55]\n",
      " [56 57 58 59 60]]\n"
     ]
    }
   ],
   "source": [
    "array_3d = np.arange(1, 61).reshape((3, 4, 5))\n",
    "print(array_3d)\n",
    "print(\"----------------------\")\n",
    "\n",
    "array_2d = array_3d.reshape((3*4, 5))\n",
    "print(array_2d)"
   ]
  },
  {
   "cell_type": "markdown",
   "metadata": {},
   "source": [
    "### Ejercicios con transpose:\n",
    "\n",
    "3. Utiliza el array 3D del ejercicio 2 de reshape. Utiliza transpose para permutar los ejes y obtener un nuevo array con forma (5, 4, 3)."
   ]
  },
  {
   "cell_type": "code",
   "execution_count": 8,
   "metadata": {},
   "outputs": [
    {
     "name": "stdout",
     "output_type": "stream",
     "text": [
      "[[[ 1 21 41]\n",
      "  [ 6 26 46]\n",
      "  [11 31 51]\n",
      "  [16 36 56]]\n",
      "\n",
      " [[ 2 22 42]\n",
      "  [ 7 27 47]\n",
      "  [12 32 52]\n",
      "  [17 37 57]]\n",
      "\n",
      " [[ 3 23 43]\n",
      "  [ 8 28 48]\n",
      "  [13 33 53]\n",
      "  [18 38 58]]\n",
      "\n",
      " [[ 4 24 44]\n",
      "  [ 9 29 49]\n",
      "  [14 34 54]\n",
      "  [19 39 59]]\n",
      "\n",
      " [[ 5 25 45]\n",
      "  [10 30 50]\n",
      "  [15 35 55]\n",
      "  [20 40 60]]]\n"
     ]
    }
   ],
   "source": [
    "permutada = array_3d.transpose(2, 1, 0)\n",
    "print(permutada)"
   ]
  },
  {
   "cell_type": "markdown",
   "metadata": {},
   "source": [
    "\n",
    "4. Utiliza el array 3D del ejercicio 2 de reshape. Utiliza transpose para cambiar el orden de los ejes y obtener un nuevo array con forma (3, 5, 4)."
   ]
  },
  {
   "cell_type": "code",
   "execution_count": 9,
   "metadata": {},
   "outputs": [
    {
     "name": "stdout",
     "output_type": "stream",
     "text": [
      "[[[ 1  2  3  4  5]\n",
      "  [ 6  7  8  9 10]\n",
      "  [11 12 13 14 15]\n",
      "  [16 17 18 19 20]]\n",
      "\n",
      " [[21 22 23 24 25]\n",
      "  [26 27 28 29 30]\n",
      "  [31 32 33 34 35]\n",
      "  [36 37 38 39 40]]\n",
      "\n",
      " [[41 42 43 44 45]\n",
      "  [46 47 48 49 50]\n",
      "  [51 52 53 54 55]\n",
      "  [56 57 58 59 60]]]\n",
      "--------------------\n",
      "[[[ 1  6 11 16]\n",
      "  [ 2  7 12 17]\n",
      "  [ 3  8 13 18]\n",
      "  [ 4  9 14 19]\n",
      "  [ 5 10 15 20]]\n",
      "\n",
      " [[21 26 31 36]\n",
      "  [22 27 32 37]\n",
      "  [23 28 33 38]\n",
      "  [24 29 34 39]\n",
      "  [25 30 35 40]]\n",
      "\n",
      " [[41 46 51 56]\n",
      "  [42 47 52 57]\n",
      "  [43 48 53 58]\n",
      "  [44 49 54 59]\n",
      "  [45 50 55 60]]]\n"
     ]
    }
   ],
   "source": [
    "array_3d = np.arange(1, 61).reshape((3, 4, 5))\n",
    "print(array_3d)\n",
    "print(\"--------------------\")\n",
    "array_transposed = array_3d.transpose((0, 2, 1))\n",
    "print(array_transposed)"
   ]
  },
  {
   "cell_type": "markdown",
   "metadata": {},
   "source": [
    "### Preguntas teóricas:\n",
    "\n",
    "5. ¿Qué diferencia existe entre el reshape y el transpose?\n",
    "El RESHAPE cambia la forma del array sin modificar sus datos y el TRANSPOSE cambia el orden de los ejes del array\n",
    "\n",
    "6. ¿Y entre el transpose y el swapaxes?\n",
    "\n",
    "El método TRANSPOSE permite reorganizar todos los ejes según un nuevo orden especificado, mientras que SWAPAXES solo intercambia 2 ejes concretos."
   ]
  },
  {
   "cell_type": "markdown",
   "metadata": {},
   "source": [
    "## Funciones Aritméticas y Estadísticas:\n",
    "\n",
    "1. Crea un array de 3D con elementos entre el 0 y 1 de forma (2, 3, 5) cuyos valores solo tengan 1 decimal."
   ]
  },
  {
   "cell_type": "code",
   "execution_count": 10,
   "metadata": {},
   "outputs": [
    {
     "name": "stdout",
     "output_type": "stream",
     "text": [
      "[[[0.1 0.5 0.4 0.6 0.7]\n",
      "  [0.3 0.1 0.8 1.  0.2]\n",
      "  [0.6 0.6 0.5 0.1 0.7]]\n",
      "\n",
      " [[0.9 0.4 0.2 0.9 0.7]\n",
      "  [0.3 0.5 0.5 0.3 0.5]\n",
      "  [0.  0.6 1.  0.9 0.4]]]\n"
     ]
    }
   ],
   "source": [
    "d3 = np.random.rand(2, 3, 5)\n",
    "d3_redondeado = np.round(d3, 1)\n",
    "print(d3_redondeado)"
   ]
  },
  {
   "cell_type": "markdown",
   "metadata": {},
   "source": [
    "\n",
    "2. Crea un array vacío con la misma forma y dimensiones que el array creado anteriormente. Vamos a reemplazar los valores de la matriz vacía que nos acabamos de crear pero basándonos en los valores del primer array bajo las siguientes condiciones:\n",
    "\n",
    "- Si el valor del array es igual que la media, se reemplaza por \"A\".\n",
    "\n",
    "- Si el valor del array es mayor que la media, se reemplaza por \"B\".\n",
    "\n",
    "- Si el valor del array es menor que la media, se reemplaza por \"C\".\n",
    "\n",
    "- Si el valor es igual que el máximo, se reemplaza por \"D\".\n",
    "\n",
    "- Si el valor es igual que el mínimo, se reemplaza por \"E\"."
   ]
  },
  {
   "cell_type": "code",
   "execution_count": null,
   "metadata": {},
   "outputs": [],
   "source": []
  }
 ],
 "metadata": {
  "kernelspec": {
   "display_name": "base",
   "language": "python",
   "name": "python3"
  },
  "language_info": {
   "codemirror_mode": {
    "name": "ipython",
    "version": 3
   },
   "file_extension": ".py",
   "mimetype": "text/x-python",
   "name": "python",
   "nbconvert_exporter": "python",
   "pygments_lexer": "ipython3",
   "version": "3.9.6"
  }
 },
 "nbformat": 4,
 "nbformat_minor": 2
}
