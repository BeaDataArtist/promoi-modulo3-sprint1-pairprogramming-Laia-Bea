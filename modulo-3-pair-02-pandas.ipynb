{
 "cells": [
  {
   "cell_type": "code",
   "execution_count": 6,
   "metadata": {},
   "outputs": [],
   "source": [
    "import pandas as pd\n",
    "import random\n",
    "import numpy as np"
   ]
  },
  {
   "cell_type": "markdown",
   "metadata": {},
   "source": [
    "1. ¿Qué diferencia hay entre una Serie y un DataFrame?"
   ]
  },
  {
   "cell_type": "markdown",
   "metadata": {},
   "source": [
    "- La serie es unidimensional y puede contener cualquier tipo de datos mientras sean los mismos. \n",
    "- El Dataframe es bidimensional y sus columnas pueden contener diferentes tipos de datos. \n",
    "- Dataframes tienen índices para sus filas y columnas. \n",
    "- Series tienen etiquetas. "
   ]
  },
  {
   "cell_type": "markdown",
   "metadata": {},
   "source": [
    "## SERIES \n",
    "2. Crea dos listas:  \n",
    "- Una que se llame \"valores\" que tenga 7 números aleatorios.\n",
    "- Otra que se llame \"indices\" que tenga 7 strings que se llamen como los días de la semana."
   ]
  },
  {
   "cell_type": "code",
   "execution_count": 13,
   "metadata": {},
   "outputs": [
    {
     "name": "stdout",
     "output_type": "stream",
     "text": [
      "[29 35 82 73 34 33  7]\n",
      "['Lunes', 'Martes', 'Miercoles', 'Jueves', 'Viernes', 'Sabado', 'Domingo']\n"
     ]
    }
   ],
   "source": [
    "valores = np.random.randint(1,100,7)\n",
    "print(valores)\n",
    "indices = [\"Lunes\", \"Martes\", \"Miercoles\", \"Jueves\", \"Viernes\", \"Sabado\", \"Domingo\"]\n",
    "print(indices)\n"
   ]
  },
  {
   "cell_type": "markdown",
   "metadata": {},
   "source": [
    "- A partir de estas dos listas crea una Serie donde la variable \"valores\" sean los valores de la Serie y la variable indices sean los índices de la Serie."
   ]
  },
  {
   "cell_type": "code",
   "execution_count": 14,
   "metadata": {},
   "outputs": [
    {
     "name": "stdout",
     "output_type": "stream",
     "text": [
      "Lunes        29\n",
      "Martes       35\n",
      "Miercoles    82\n",
      "Jueves       73\n",
      "Viernes      34\n",
      "Sabado       33\n",
      "Domingo       7\n",
      "dtype: int64\n"
     ]
    }
   ],
   "source": [
    "serie = pd.Series(valores, index=indices)\n",
    "print(serie)"
   ]
  },
  {
   "cell_type": "markdown",
   "metadata": {},
   "source": [
    "- A partir de las dos listas anteriores crea un diccionario usando un bucle for. Para hacer esto tenemos el método zip que nos permite iterar por dos listas a la vez."
   ]
  },
  {
   "cell_type": "code",
   "execution_count": 19,
   "metadata": {},
   "outputs": [
    {
     "name": "stdout",
     "output_type": "stream",
     "text": [
      "{'Lunes': np.int64(29), 'Martes': np.int64(35), 'Miercoles': np.int64(82), 'Jueves': np.int64(73), 'Viernes': np.int64(34), 'Sabado': np.int64(33), 'Domingo': np.int64(7)}\n",
      "{'Lunes': 29, 'Martes': 35, 'Miercoles': 82, 'Jueves': 73, 'Viernes': 34, 'Sabado': 33, 'Domingo': 7}\n"
     ]
    }
   ],
   "source": [
    "diccionario = {}\n",
    "for indice, valor in zip(indices,valores):\n",
    "    diccionario[indice] = valor\n",
    "\n",
    "print(diccionario)\n",
    "# Forma para no ver el tipo de dato (int64) en el resultado: aplicar int.\n",
    "diccionario1 = {indice: int(valor) for indice, valor in zip(indices, valores)}\n",
    "print (diccionario1)"
   ]
  },
  {
   "cell_type": "markdown",
   "metadata": {},
   "source": [
    "- Crea una Serie con el diccionario creado en el punto anterior."
   ]
  },
  {
   "cell_type": "code",
   "execution_count": 21,
   "metadata": {},
   "outputs": [
    {
     "data": {
      "text/plain": [
       "Lunes        29\n",
       "Martes       35\n",
       "Miercoles    82\n",
       "Jueves       73\n",
       "Viernes      34\n",
       "Sabado       33\n",
       "Domingo       7\n",
       "dtype: int64"
      ]
     },
     "execution_count": 21,
     "metadata": {},
     "output_type": "execute_result"
    }
   ],
   "source": [
    "serie_dic = pd.Series(diccionario)\n",
    "serie_dic"
   ]
  },
  {
   "cell_type": "markdown",
   "metadata": {},
   "source": [
    "- ¿Qué forma tiene esta última Serie?\n",
    "\n",
    "- ¿Qué tipo de datos tiene?\n",
    "\n",
    "- ¿Qué tamaño tiene?\n",
    "\n",
    "- ¿Cuáles son los índices de la Serie?\n",
    "\n",
    "- ¿Y los values?"
   ]
  },
  {
   "cell_type": "code",
   "execution_count": 27,
   "metadata": {},
   "outputs": [
    {
     "name": "stdout",
     "output_type": "stream",
     "text": [
      "(7,)\n",
      "int64\n",
      "7\n",
      "[29 35 82 73 34 33  7]\n"
     ]
    }
   ],
   "source": [
    "forma_dic = serie_dic.shape\n",
    "print(forma_dic)\n",
    "\n",
    "tipo_dic = serie_dic.dtype\n",
    "print(tipo_dic)\n",
    "\n",
    "tamaño_dic = serie_dic.size\n",
    "print(tamaño_dic)\n",
    "\n",
    "valores_dic = serie_dic.values\n",
    "print(valores_dic)\n"
   ]
  },
  {
   "cell_type": "markdown",
   "metadata": {},
   "source": [
    "- Extrae el valor para el índice \"lunes\"\n",
    "\n",
    "- Extrae el valor para el índice \"lunes\", \"martes\" y \"miércoles\".\n",
    "\n",
    "- Extrae el valor para el índice \"lunes\" y \"domingo\"."
   ]
  },
  {
   "cell_type": "code",
   "execution_count": 38,
   "metadata": {},
   "outputs": [
    {
     "name": "stdout",
     "output_type": "stream",
     "text": [
      "29\n",
      "Lunes        29\n",
      "Martes       35\n",
      "Miercoles    82\n",
      "dtype: int64\n",
      "Lunes      29\n",
      "Domingo     7\n",
      "dtype: int64\n",
      "Lunes      29\n",
      "Domingo     7\n",
      "dtype: int64\n"
     ]
    }
   ],
   "source": [
    "valor_lunes_dic = serie_dic.loc['Lunes']\n",
    "print(valor_lunes_dic)\n",
    "\n",
    "\n",
    "valor_3dias_dic = serie_dic.loc[['Lunes', 'Martes', 'Miercoles']]\n",
    "print(valor_3dias_dic)\n",
    "\n",
    "\n",
    "valor_2dias_dic = serie_dic.loc[['Lunes', 'Domingo']]\n",
    "print(valor_2dias_dic)\n",
    "\n",
    "# Probamos el método iloc\n",
    "valor_2dias_dic = serie_dic.iloc[[0, -1]]\n",
    "print(valor_2dias_dic)"
   ]
  },
  {
   "cell_type": "markdown",
   "metadata": {},
   "source": [
    "# DATAFRAMES\n",
    "\n",
    "3. Crea un array de dos dimensiones con 4 filas y 3 columnas.\n",
    "- Convierte el array en un DataFrame donde las columnas se llamen \"España\", \"Francia\" e \"Italia\"."
   ]
  },
  {
   "cell_type": "code",
   "execution_count": 40,
   "metadata": {},
   "outputs": [
    {
     "data": {
      "text/plain": [
       "array([[55, 75, 40],\n",
       "       [99, 21, 28],\n",
       "       [37, 37, 77],\n",
       "       [42, 75, 61]])"
      ]
     },
     "execution_count": 40,
     "metadata": {},
     "output_type": "execute_result"
    }
   ],
   "source": [
    "array_2d = np.random.randint(1,100,size=(4,3))\n",
    "array_2d"
   ]
  },
  {
   "cell_type": "code",
   "execution_count": 41,
   "metadata": {},
   "outputs": [
    {
     "data": {
      "text/html": [
       "<div>\n",
       "<style scoped>\n",
       "    .dataframe tbody tr th:only-of-type {\n",
       "        vertical-align: middle;\n",
       "    }\n",
       "\n",
       "    .dataframe tbody tr th {\n",
       "        vertical-align: top;\n",
       "    }\n",
       "\n",
       "    .dataframe thead th {\n",
       "        text-align: right;\n",
       "    }\n",
       "</style>\n",
       "<table border=\"1\" class=\"dataframe\">\n",
       "  <thead>\n",
       "    <tr style=\"text-align: right;\">\n",
       "      <th></th>\n",
       "      <th>España</th>\n",
       "      <th>Francia</th>\n",
       "      <th>Italia</th>\n",
       "    </tr>\n",
       "  </thead>\n",
       "  <tbody>\n",
       "    <tr>\n",
       "      <th>0</th>\n",
       "      <td>55</td>\n",
       "      <td>75</td>\n",
       "      <td>40</td>\n",
       "    </tr>\n",
       "    <tr>\n",
       "      <th>1</th>\n",
       "      <td>99</td>\n",
       "      <td>21</td>\n",
       "      <td>28</td>\n",
       "    </tr>\n",
       "    <tr>\n",
       "      <th>2</th>\n",
       "      <td>37</td>\n",
       "      <td>37</td>\n",
       "      <td>77</td>\n",
       "    </tr>\n",
       "    <tr>\n",
       "      <th>3</th>\n",
       "      <td>42</td>\n",
       "      <td>75</td>\n",
       "      <td>61</td>\n",
       "    </tr>\n",
       "  </tbody>\n",
       "</table>\n",
       "</div>"
      ],
      "text/plain": [
       "   España  Francia  Italia\n",
       "0      55       75      40\n",
       "1      99       21      28\n",
       "2      37       37      77\n",
       "3      42       75      61"
      ]
     },
     "execution_count": 41,
     "metadata": {},
     "output_type": "execute_result"
    }
   ],
   "source": [
    "df_2d = pd.DataFrame(array_2d, columns =[\"España\", \"Francia\", \"Italia\"])\n",
    "df_2d"
   ]
  },
  {
   "cell_type": "markdown",
   "metadata": {},
   "source": [
    "Descarga el archivo \"medallas\" y carga el DataFrame.\n",
    "- Usando el loc extrae todas las columnas de la fila de Tailandia.\n",
    "\n",
    "- Usando el loc extrae todas las columnas de China e Irán.\n",
    "\n",
    "- Usando el loc extrae solo las columnas de \"Oro\", \"Plata\" y \"Bronce\" de China e Irán.\n",
    "\n",
    "- Usando el iloc extrae la información de la India. Devolved todas las columnas.\n",
    "\n",
    "- Usando el iloc extrae todas las columnas de los paises que estén en posición impar. La primera que nos tendría que salir es Japón y la última Corea del Norte."
   ]
  },
  {
   "cell_type": "code",
   "execution_count": null,
   "metadata": {},
   "outputs": [],
   "source": []
  },
  {
   "cell_type": "code",
   "execution_count": null,
   "metadata": {},
   "outputs": [],
   "source": []
  },
  {
   "cell_type": "code",
   "execution_count": null,
   "metadata": {},
   "outputs": [],
   "source": []
  },
  {
   "cell_type": "code",
   "execution_count": null,
   "metadata": {},
   "outputs": [],
   "source": []
  },
  {
   "cell_type": "code",
   "execution_count": null,
   "metadata": {},
   "outputs": [],
   "source": []
  },
  {
   "cell_type": "markdown",
   "metadata": {},
   "source": [
    "Utilizando el código del ejercicio anterior, selecciona unicamente las columnas \"Oro\", \"Plata\" y \"Bronce\".\n",
    "\n",
    "Contesta a las siguientes preguntas:\n",
    "\n",
    "- ¿Qué país consiguió más de 200 medallas de oro?\n",
    "\n",
    "- ¿Qué país consiguió más de 200 medallas de oro y más de 1000 de plata?\n",
    "\n",
    "- ¿Qué país consiguió más de 200 medallas de oro o más de 700 de bronce?\n",
    "\n",
    "Crea una nueva columma que se llame \"total\" que sea el resultado de la suma de todas las medallas obtenidas por cada país."
   ]
  },
  {
   "cell_type": "code",
   "execution_count": null,
   "metadata": {},
   "outputs": [],
   "source": []
  }
 ],
 "metadata": {
  "kernelspec": {
   "display_name": "Python 3",
   "language": "python",
   "name": "python3"
  },
  "language_info": {
   "codemirror_mode": {
    "name": "ipython",
    "version": 3
   },
   "file_extension": ".py",
   "mimetype": "text/x-python",
   "name": "python",
   "nbconvert_exporter": "python",
   "pygments_lexer": "ipython3",
   "version": "3.9.6"
  }
 },
 "nbformat": 4,
 "nbformat_minor": 2
}
